{
  "nbformat": 4,
  "nbformat_minor": 0,
  "metadata": {
    "colab": {
      "name": "01-linearRegression",
      "version": "0.3.2",
      "provenance": [],
      "collapsed_sections": [],
      "include_colab_link": true
    },
    "kernelspec": {
      "name": "python3",
      "display_name": "Python 3"
    }
  },
  "cells": [
    {
      "cell_type": "markdown",
      "metadata": {
        "id": "view-in-github",
        "colab_type": "text"
      },
      "source": [
        "<a href=\"https://colab.research.google.com/github/vicgupta/Machine_Learning_Tutorials/blob/master/01_linearRegression.ipynb\" target=\"_parent\"><img src=\"https://colab.research.google.com/assets/colab-badge.svg\" alt=\"Open In Colab\"/></a>"
      ]
    },
    {
      "cell_type": "code",
      "metadata": {
        "id": "a-UaWm0IuCvf",
        "colab_type": "code",
        "colab": {}
      },
      "source": [
        "# Import all the libraries used for linear regression\n",
        "import sklearn\n",
        "import numpy as np\n",
        "import pandas as pd\n",
        "from sklearn import linear_model\n",
        "from sklearn.utils import shuffle"
      ],
      "execution_count": 0,
      "outputs": []
    },
    {
      "cell_type": "code",
      "metadata": {
        "id": "mx7hhonLuwEI",
        "colab_type": "code",
        "colab": {
          "base_uri": "https://localhost:8080/",
          "height": 119
        },
        "outputId": "f2260206-13e2-4564-b9db-4ce6e6be1409"
      },
      "source": [
        "df = pd.read_csv(\"https://raw.githubusercontent.com/vicgupta/Machine_Learning_Tutorials/master/student_math_grades.csv\", sep=\";\")\n",
        "\n",
        "df = df[[\"G1\", \"G2\", \"G3\", \"studytime\", \"failures\",\"absences\"]]\n",
        "\n",
        "print (df.head())"
      ],
      "execution_count": 15,
      "outputs": [
        {
          "output_type": "stream",
          "text": [
            "   G1  G2  G3  studytime  failures  absences\n",
            "0   5   6   6          2         0         6\n",
            "1   5   5   6          2         0         4\n",
            "2   7   8  10          2         3        10\n",
            "3  15  14  15          3         0         2\n",
            "4   6  10  10          2         0         4\n"
          ],
          "name": "stdout"
        }
      ]
    },
    {
      "cell_type": "code",
      "metadata": {
        "id": "NRwc1kTDx79-",
        "colab_type": "code",
        "colab": {}
      },
      "source": [
        "predict = \"G3\"\n",
        "X = np.array(df.drop([predict], 1))\n",
        "y = np.array(df[predict])\n"
      ],
      "execution_count": 0,
      "outputs": []
    },
    {
      "cell_type": "code",
      "metadata": {
        "id": "KKQUgNGBzXsC",
        "colab_type": "code",
        "colab": {}
      },
      "source": [
        "x_train, x_test, y_train, y_test = sklearn.model_selection.train_test_split (X, y, test_size = 0.1)"
      ],
      "execution_count": 0,
      "outputs": []
    },
    {
      "cell_type": "code",
      "metadata": {
        "id": "R7AleMxVzi7z",
        "colab_type": "code",
        "colab": {
          "base_uri": "https://localhost:8080/",
          "height": 34
        },
        "outputId": "184710bd-2bcb-4249-87ec-a8437d59f5fd"
      },
      "source": [
        "linear = linear_model.LinearRegression()\n",
        "linear.fit(x_train,y_train)\n",
        "model_accuracy = linear.score(x_test,y_test)\n",
        "print (model_accuracy)"
      ],
      "execution_count": 28,
      "outputs": [
        {
          "output_type": "stream",
          "text": [
            "0.8132515537266283\n"
          ],
          "name": "stdout"
        }
      ]
    },
    {
      "cell_type": "code",
      "metadata": {
        "id": "OvnDDJDsz3rj",
        "colab_type": "code",
        "colab": {
          "base_uri": "https://localhost:8080/",
          "height": 51
        },
        "outputId": "7ab17d58-d276-4eb4-9876-a04a64da0d80"
      },
      "source": [
        "print (\"Coefficient: \", linear.coef_)\n",
        "print (\"Intercept: \", linear.intercept_)"
      ],
      "execution_count": 29,
      "outputs": [
        {
          "output_type": "stream",
          "text": [
            "Coefficient:  [ 0.15788165  0.97168028 -0.16625755 -0.19904007  0.03650274]\n",
            "Intercept:  -1.489012820260129\n"
          ],
          "name": "stdout"
        }
      ]
    },
    {
      "cell_type": "code",
      "metadata": {
        "id": "VOpbnHi30k0W",
        "colab_type": "code",
        "colab": {}
      },
      "source": [
        ""
      ],
      "execution_count": 0,
      "outputs": []
    }
  ]
}