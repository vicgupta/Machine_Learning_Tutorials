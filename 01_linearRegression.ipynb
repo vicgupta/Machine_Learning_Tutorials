{
  "nbformat": 4,
  "nbformat_minor": 0,
  "metadata": {
    "colab": {
      "name": "01-linearRegression",
      "version": "0.3.2",
      "provenance": [],
      "collapsed_sections": [],
      "include_colab_link": true
    },
    "kernelspec": {
      "name": "python3",
      "display_name": "Python 3"
    }
  },
  "cells": [
    {
      "cell_type": "markdown",
      "metadata": {
        "id": "view-in-github",
        "colab_type": "text"
      },
      "source": [
        "<a href=\"https://colab.research.google.com/github/vicgupta/Machine_Learning_Tutorials/blob/master/01_linearRegression.ipynb\" target=\"_parent\"><img src=\"https://colab.research.google.com/assets/colab-badge.svg\" alt=\"Open In Colab\"/></a>"
      ]
    },
    {
      "cell_type": "code",
      "metadata": {
        "id": "a-UaWm0IuCvf",
        "colab_type": "code",
        "colab": {}
      },
      "source": [
        "# Import all the libraries used for linear regression\n",
        "import sklearn\n",
        "import numpy as np\n",
        "import pandas as pd\n",
        "from sklearn import linear_model\n",
        "from sklearn.utils import shuffle\n",
        "import matplotlib.pyplot as pyplot\n",
        "from matplotlib import style\n",
        "\n",
        "import pickle  # Used to store the model in a binary serialized format "
      ],
      "execution_count": 0,
      "outputs": []
    },
    {
      "cell_type": "code",
      "metadata": {
        "id": "mx7hhonLuwEI",
        "colab_type": "code",
        "colab": {}
      },
      "source": [
        "df = pd.read_csv(\"https://raw.githubusercontent.com/vicgupta/Machine_Learning_Tutorials/master/student_math_grades.csv\", sep=\";\")\n",
        "df = df[[\"G1\", \"G2\", \"G3\", \"studytime\", \"failures\",\"absences\"]]\n",
        "\n",
        "# print (df.head())"
      ],
      "execution_count": 0,
      "outputs": []
    },
    {
      "cell_type": "code",
      "metadata": {
        "id": "NRwc1kTDx79-",
        "colab_type": "code",
        "colab": {}
      },
      "source": [
        "predict = \"G3\"  # predict the final student grade\n",
        "X = np.array(df.drop([predict], 1))\n",
        "y = np.array(df[predict])"
      ],
      "execution_count": 0,
      "outputs": []
    },
    {
      "cell_type": "code",
      "metadata": {
        "id": "KKQUgNGBzXsC",
        "colab_type": "code",
        "colab": {}
      },
      "source": [
        "x_train, x_test, y_train, y_test = sklearn.model_selection.train_test_split (X, y, test_size = 0.1)"
      ],
      "execution_count": 0,
      "outputs": []
    },
    {
      "cell_type": "code",
      "metadata": {
        "id": "R7AleMxVzi7z",
        "colab_type": "code",
        "colab": {
          "base_uri": "https://localhost:8080/",
          "height": 34
        },
        "outputId": "c181017e-ee98-4970-bc18-6897ae973d82"
      },
      "source": [
        "linear = linear_model.LinearRegression()\n",
        "linear.fit(x_train,y_train)\n",
        "model_accuracy = linear.score(x_test,y_test)\n",
        "print (model_accuracy)"
      ],
      "execution_count": 43,
      "outputs": [
        {
          "output_type": "stream",
          "text": [
            "0.7735150938330447\n"
          ],
          "name": "stdout"
        }
      ]
    },
    {
      "cell_type": "code",
      "metadata": {
        "id": "OvnDDJDsz3rj",
        "colab_type": "code",
        "colab": {}
      },
      "source": [
        "# Save the model to be used in the future\n",
        "with open (\"studentmodel.pickle\", \"wb\") as f:\n",
        "  pickle.dump(linear, f)\n",
        "\n",
        "pickle_in = open(\"studentmodel.pickle\", \"rb\")\n",
        "linear = pickle.load(pickle_in)\n"
      ],
      "execution_count": 0,
      "outputs": []
    },
    {
      "cell_type": "code",
      "metadata": {
        "id": "Au_cXFTS2pzt",
        "colab_type": "code",
        "colab": {
          "base_uri": "https://localhost:8080/",
          "height": 51
        },
        "outputId": "88d1eeea-fd98-4186-b800-bf20ad7c4d28"
      },
      "source": [
        "print (\"Coefficient: \", linear.coef_)\n",
        "print (\"Intercept: \", linear.intercept_)"
      ],
      "execution_count": 46,
      "outputs": [
        {
          "output_type": "stream",
          "text": [
            "Coefficient:  [ 0.16430162  0.96892401 -0.25214533 -0.13111721  0.03617951]\n",
            "Intercept:  -1.3687705860357369\n"
          ],
          "name": "stdout"
        }
      ]
    },
    {
      "cell_type": "code",
      "metadata": {
        "id": "VOpbnHi30k0W",
        "colab_type": "code",
        "colab": {
          "base_uri": "https://localhost:8080/",
          "height": 697
        },
        "outputId": "78eb0200-e393-4c1e-ab35-d9aadb1a329e"
      },
      "source": [
        "predictions = linear.predict (x_test)\n",
        "\n",
        "for x in range(len(predictions)):\n",
        "  print (predictions[x], x_test[x], y_test[x])"
      ],
      "execution_count": 47,
      "outputs": [
        {
          "output_type": "stream",
          "text": [
            "3.8161622358416967 [6 5 1 3 0] 0\n",
            "5.080505076233581 [7 6 1 2 0] 0\n",
            "5.452389220921584 [ 7  6  2  0 10] 6\n",
            "12.606726631634025 [13 13  3  0  0] 14\n",
            "16.29062946872494 [14 16  1  0  3] 16\n",
            "8.098810722815928 [6 9 1 1 4] 8\n",
            "3.622782507503522 [3 5 2 1 8] 5\n",
            "10.37756608358432 [11 11  4  0  8] 10\n",
            "12.518882919838195 [14 13  4  0  0] 14\n",
            "12.07875347427037 [10 13  4  0  6] 13\n",
            "11.798005343885093 [12 12  2  0  2] 11\n",
            "8.95490440391244 [10 10  4  0  0] 10\n",
            "8.594710678043493 [8 9 1 0 5] 9\n",
            "9.171981439774264 [10 10  4  0  6] 11\n",
            "11.923139771343447 [11 12  2  0 10] 13\n",
            "4.227220980662 [ 5  5  2  0 12] 5\n",
            "10.500478091671566 [10 11  2  0  2] 12\n",
            "14.228758227954733 [15 14  2  0  2] 14\n",
            "15.687599413603582 [16 15  2  0 11] 15\n",
            "10.340275367921796 [11 11  3  0  0] 10\n",
            "-0.975095239993576 [7 0 3 0 0] 0\n",
            "9.328077859683154 [10 10  2  1  0] 0\n",
            "12.416044632415684 [14 12  2  0 10] 11\n",
            "11.725646331931152 [12 12  2  0  0] 11\n",
            "13.01309190645962 [11 13  1  1 10] 13\n",
            "12.77783969218539 [14 12  2  0 20] 13\n",
            "15.105739631049964 [14 15  2  0  4] 15\n",
            "5.92840096411481 [7 7 2 1 0] 0\n",
            "10.66477971202898 [11 11  2  0  2] 11\n",
            "6.8181765884814105 [ 7  7  1  0 14] 5\n",
            "10.088130035768554 [11 11  4  0  0] 11\n",
            "3.142657053236176 [7 4 1 2 0] 0\n",
            "15.197682239453435 [15 15  2  0  2] 16\n",
            "6.420202022734734 [7 7 1 0 3] 8\n",
            "3.9377849328462347 [5 5 2 0 4] 6\n",
            "6.306487317827148 [5 8 2 3 0] 7\n",
            "10.645196115579449 [10 11  2  0  6] 11\n",
            "10.352021771073165 [ 9  9  2  0 56] 8\n",
            "15.616351611335197 [16 15  3  0 16] 15\n",
            "8.470687460270693 [9 9 2 0 4] 10\n"
          ],
          "name": "stdout"
        }
      ]
    },
    {
      "cell_type": "code",
      "metadata": {
        "id": "OAuy9E_D1SYn",
        "colab_type": "code",
        "colab": {}
      },
      "source": [
        ""
      ],
      "execution_count": 0,
      "outputs": []
    },
    {
      "cell_type": "markdown",
      "metadata": {
        "id": "7FEIfIVS1TfN",
        "colab_type": "text"
      },
      "source": [
        ""
      ]
    }
  ]
}