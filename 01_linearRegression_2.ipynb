{
  "nbformat": 4,
  "nbformat_minor": 0,
  "metadata": {
    "colab": {
      "name": "01-linearRegression-2",
      "version": "0.3.2",
      "provenance": [],
      "collapsed_sections": [],
      "include_colab_link": true
    },
    "kernelspec": {
      "name": "python3",
      "display_name": "Python 3"
    }
  },
  "cells": [
    {
      "cell_type": "markdown",
      "metadata": {
        "id": "view-in-github",
        "colab_type": "text"
      },
      "source": [
        "<a href=\"https://colab.research.google.com/github/vicgupta/Machine_Learning_Tutorials/blob/master/01_linearRegression_2.ipynb\" target=\"_parent\"><img src=\"https://colab.research.google.com/assets/colab-badge.svg\" alt=\"Open In Colab\"/></a>"
      ]
    },
    {
      "cell_type": "code",
      "metadata": {
        "id": "a-UaWm0IuCvf",
        "colab_type": "code",
        "colab": {}
      },
      "source": [
        "# Import all the libraries used for linear regression\n",
        "import sklearn\n",
        "import numpy as np\n",
        "import pandas as pd\n",
        "from sklearn import linear_model\n",
        "from sklearn.utils import shuffle\n",
        "import matplotlib.pyplot as plt\n",
        "from matplotlib import style\n",
        "\n",
        "import pickle  # Used to store the model in a binary serialized format "
      ],
      "execution_count": 0,
      "outputs": []
    },
    {
      "cell_type": "code",
      "metadata": {
        "id": "mx7hhonLuwEI",
        "colab_type": "code",
        "colab": {}
      },
      "source": [
        "df = pd.read_csv(\"https://raw.githubusercontent.com/vicgupta/Machine_Learning_Tutorials/master/student_math_grades.csv\", sep=\";\")\n",
        "df = df[[\"G1\", \"G2\", \"G3\", \"studytime\", \"failures\",\"absences\"]]\n",
        "\n",
        "# print (df.head())"
      ],
      "execution_count": 0,
      "outputs": []
    },
    {
      "cell_type": "code",
      "metadata": {
        "id": "NRwc1kTDx79-",
        "colab_type": "code",
        "colab": {}
      },
      "source": [
        "predict = \"G3\"  # predict the final student grade\n",
        "X = np.array(df.drop([predict], 1))\n",
        "y = np.array(df[predict])"
      ],
      "execution_count": 0,
      "outputs": []
    },
    {
      "cell_type": "code",
      "metadata": {
        "id": "KKQUgNGBzXsC",
        "colab_type": "code",
        "colab": {
          "base_uri": "https://localhost:8080/",
          "height": 102
        },
        "outputId": "c45b61ec-d2ea-4792-ac7b-438a72a3d5cf"
      },
      "source": [
        "best = 0\n",
        "for _ in range(3000):\n",
        "  x_train, x_test, y_train, y_test = sklearn.model_selection.train_test_split (X, y, test_size = 0.1)\n",
        "  linear = linear_model.LinearRegression()\n",
        "  linear.fit(x_train, y_train)\n",
        "  model_accuracy = linear.score(x_test, y_test)\n",
        "  \n",
        "  if model_accuracy > best:\n",
        "    best = model_accuracy\n",
        "    with open (\"studentmodel.pickle\", \"wb\") as f:\n",
        "      pickle.dump(linear, f)\n",
        "    print (best)"
      ],
      "execution_count": 14,
      "outputs": [
        {
          "output_type": "stream",
          "text": [
            "0.7759368430996779\n",
            "0.9142128825940148\n",
            "0.9241100470846959\n",
            "0.9597362916571767\n",
            "0.9670736281384816\n"
          ],
          "name": "stdout"
        }
      ]
    },
    {
      "cell_type": "code",
      "metadata": {
        "id": "OvnDDJDsz3rj",
        "colab_type": "code",
        "colab": {}
      },
      "source": [
        "# Save the model to be used in the future\n",
        "# pickle_in = open(\"studentmodel.pickle\", \"rb\")\n",
        "# linear = pickle.load(pickle_in)\n",
        "# model_accuracy = linear.score(x_test,y_test)\n"
      ],
      "execution_count": 0,
      "outputs": []
    },
    {
      "cell_type": "code",
      "metadata": {
        "id": "Au_cXFTS2pzt",
        "colab_type": "code",
        "colab": {}
      },
      "source": [
        "print (\"Coefficient: \", linear.coef_)\n",
        "print (\"Intercept: \", linear.intercept_)"
      ],
      "execution_count": 0,
      "outputs": []
    },
    {
      "cell_type": "code",
      "metadata": {
        "id": "VOpbnHi30k0W",
        "colab_type": "code",
        "colab": {}
      },
      "source": [
        "predictions = linear.predict (x_test)\n",
        "\n",
        "for x in range(len(predictions)):\n",
        "  print (predictions[x], x_test[x], y_test[x])"
      ],
      "execution_count": 0,
      "outputs": []
    },
    {
      "cell_type": "code",
      "metadata": {
        "id": "PydKxHCf9ac6",
        "colab_type": "code",
        "colab": {}
      },
      "source": [
        ""
      ],
      "execution_count": 0,
      "outputs": []
    }
  ]
}